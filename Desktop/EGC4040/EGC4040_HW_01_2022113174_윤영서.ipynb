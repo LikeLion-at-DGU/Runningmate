{
  "nbformat": 4,
  "nbformat_minor": 0,
  "metadata": {
    "colab": {
      "name": "EGC4040_HW_01.ipynb",
      "provenance": [],
      "collapsed_sections": []
    },
    "kernelspec": {
      "name": "python3",
      "display_name": "Python 3"
    },
    "language_info": {
      "name": "python"
    }
  },
  "cells": [
    {
      "cell_type": "markdown",
      "source": [
        "# EGC4040-05 Homework 1\n",
        "\n",
        "EGC4040-05 인공지능프로그래밍 기초와실습 과제 01입니다. \n",
        "\n",
        "주어진 설명을 잘 읽고, 빈 셀에 코드를 작성하시기 바랍니다. \n",
        "과제를 완성한 후, **EGC4040_HW_01_학번_이름.ipynb**로 파일을 저장한 후 eclass의 과제제출을 통해 제출하세요. \n"
      ],
      "metadata": {
        "id": "ceuQWqNoiIBo"
      }
    },
    {
      "cell_type": "markdown",
      "source": [
        "## E-1: 문자열과 연산자\n",
        "\n"
      ],
      "metadata": {
        "id": "HKtgoDpU6mL8"
      }
    },
    {
      "cell_type": "markdown",
      "source": [
        "### E-1 (1)\n",
        "다음의 실행 결과가 나오게 하는 코드를 빈칸에 채워넣으세요.\n",
        "\n",
        "실행 결과:\n",
        "```\n",
        "235\n",
        "```\n"
      ],
      "metadata": {
        "id": "ZK4B5dyiFZmM"
      }
    },
    {
      "cell_type": "code",
      "source": [
        "# E-1 (1)\n",
        "myVar1 = \"2\"\n",
        "myNum1 = 35\n",
        "\n",
        "# your code here\n",
        "\n",
        "print(myVar1 + str(myNum1))"
      ],
      "metadata": {
        "id": "b0QZM4oj6Gcx",
        "colab": {
          "base_uri": "https://localhost:8080/"
        },
        "outputId": "9c49f644-6a70-4d08-9d0c-0ac443006fe6"
      },
      "execution_count": 43,
      "outputs": [
        {
          "output_type": "stream",
          "name": "stdout",
          "text": [
            "235\n"
          ]
        }
      ]
    },
    {
      "cell_type": "markdown",
      "source": [
        "### E-1 (2)\n",
        "문자열의 합과 곱을 이용하여 아래와 같은 실행 결과가 나오도록 코드를 작성하세요.\n",
        "\n",
        "실행 결과:\n",
        "```\n",
        "python java python java python java python java \n",
        "```"
      ],
      "metadata": {
        "id": "GsuxFrl6EyDS"
      }
    },
    {
      "cell_type": "code",
      "source": [
        "# E-1 (2)\n",
        "one = 'python'\n",
        "two = 'java'\n",
        "\n",
        "# your code here\n",
        "\n",
        "print ((one + ' ' + two + ' ')*4) "
      ],
      "metadata": {
        "id": "-fTuwE_W7KFo",
        "colab": {
          "base_uri": "https://localhost:8080/"
        },
        "outputId": "3dcba47a-b411-44d8-f46e-7751bcf8aec7"
      },
      "execution_count": 42,
      "outputs": [
        {
          "output_type": "stream",
          "name": "stdout",
          "text": [
            "python java python java python java python java \n"
          ]
        }
      ]
    },
    {
      "cell_type": "markdown",
      "source": [
        "## E-2: 리스트, 튜플, 딕셔너리, 집합\n",
        "\n"
      ],
      "metadata": {
        "id": "zZuezzlL7eV5"
      }
    },
    {
      "cell_type": "markdown",
      "source": [
        "### E-2 (1)\n",
        "\n",
        "다음의 리스트가 주어졌을 때, 리스트를 정렬하고 맨 끝에 0을 삽입하는 코드를 작성하세요.\n",
        "\n",
        "실행 결과:\n",
        "```\n",
        "[5, 8, 11, 29, 34, 0]\n",
        "```"
      ],
      "metadata": {
        "id": "yMCs48GdFbX7"
      }
    },
    {
      "cell_type": "code",
      "source": [
        "# E-2 (1)\n",
        "myList = [11, 34, 8, 29, 5]\n",
        "\n",
        "# your code here\n",
        "\n",
        "myList.sort()\n",
        "myList.append(0)\n",
        "\n",
        "print(myList)"
      ],
      "metadata": {
        "id": "bU-X_y-X7eG3",
        "colab": {
          "base_uri": "https://localhost:8080/"
        },
        "outputId": "e4653105-eb91-4c94-d4ef-2ee9d63b32fd"
      },
      "execution_count": 41,
      "outputs": [
        {
          "output_type": "stream",
          "name": "stdout",
          "text": [
            "[5, 8, 11, 29, 34, 0]\n"
          ]
        }
      ]
    },
    {
      "cell_type": "markdown",
      "source": [
        "### E-2 (2)\n",
        "다음의 딕셔너리가 주어졌을 때, `key2`의 value 안에 위치한 값인 `10`을 확인하고 출력하는 코드를 작성하세요. \n",
        "\n",
        "실행 결과:\n",
        "```\n",
        "10\n",
        "```"
      ],
      "metadata": {
        "id": "gh1aLIdhFIA8"
      }
    },
    {
      "cell_type": "code",
      "source": [
        "# E-2 (2)\n",
        "myDict = {'key1' : 15, 'key2' : {'key1' : 10, 'key2' : 20}}\n",
        "\n",
        "# your code here\n",
        "\n",
        "print(myDict['key2']['key1'])"
      ],
      "metadata": {
        "id": "wucl-KSE67Qu",
        "colab": {
          "base_uri": "https://localhost:8080/"
        },
        "outputId": "df55ac1a-83d9-4e23-e534-db21778556a3"
      },
      "execution_count": 40,
      "outputs": [
        {
          "output_type": "stream",
          "name": "stdout",
          "text": [
            "10\n"
          ]
        }
      ]
    },
    {
      "cell_type": "markdown",
      "source": [
        "### E-2 (3)\n",
        "아래의 표에서 물건의 이름을 key로, [가격, 재고] 리스트를 value로 하여 딕셔너리를 생성하고, 죠스바의 재고를 출력하세요.\n",
        "\n",
        "```\n",
        "|   이름   |  가격   |  재고  |\n",
        "|  동원참치 |  3000  |   20  |\n",
        "|  맛동산   |  2500  |  10  |\n",
        "|  죠스바   |  1000  |  15  |\n",
        "```\n",
        "\n",
        "실행 결과\n",
        "```\n",
        "15\n",
        "```"
      ],
      "metadata": {
        "id": "fZ-wweAiFJoZ"
      }
    },
    {
      "cell_type": "code",
      "source": [
        "# E-2 (3)\n",
        "myDict = {'동원참치':[3000, 20], '맛동산':[2500,10], '죠스바':[1000, 15]}\n",
        "\n",
        "# your code here\n",
        "myList = (list(myDict.values())[2])\n",
        "print (list(myList)[1])"
      ],
      "metadata": {
        "id": "8ccX0wrK9CHa",
        "colab": {
          "base_uri": "https://localhost:8080/"
        },
        "outputId": "3c863a69-4c26-4bac-df2e-5d3cec9cdff8"
      },
      "execution_count": 39,
      "outputs": [
        {
          "output_type": "stream",
          "name": "stdout",
          "text": [
            "15\n"
          ]
        }
      ]
    },
    {
      "cell_type": "markdown",
      "source": [
        "## E-3: 조건문, 제어문\n"
      ],
      "metadata": {
        "id": "da3xblns92Cm"
      }
    },
    {
      "cell_type": "markdown",
      "source": [
        "\n",
        "### E-3 (1)\n",
        "while 문으로 작성된 다음의 반복문을 for 문을 이용한 반복문으로 바꾸어 구현하세요. \n",
        "\n",
        "```\n",
        "x = 0\n",
        "while x < 6:\n",
        "  if x % 2 == 0:\n",
        "    pass\n",
        "  else:\n",
        "    print(x)\n",
        "\n",
        "  x += 1\n",
        "```\n",
        "\n",
        "실행 결과:\n",
        "```\n",
        "1\n",
        "3\n",
        "5\n",
        "```"
      ],
      "metadata": {
        "id": "mvM_32IVFc6C"
      }
    },
    {
      "cell_type": "code",
      "source": [
        "# E-3 (1)\n",
        "\n",
        "# your code here\n",
        "\n",
        "for var in range(1, 6, 2) :\n",
        "    print(var)"
      ],
      "metadata": {
        "id": "Lf_dGgUE9CEe",
        "colab": {
          "base_uri": "https://localhost:8080/"
        },
        "outputId": "d167fba2-5d59-4749-8324-bf3579a6e65a"
      },
      "execution_count": 38,
      "outputs": [
        {
          "output_type": "stream",
          "name": "stdout",
          "text": [
            "1\n",
            "3\n",
            "5\n"
          ]
        }
      ]
    },
    {
      "cell_type": "markdown",
      "source": [
        "\n",
        "### E-3 (2)\n",
        "for 문과 if 문, break 등을 활용하여 1부터 30까지의 숫자 중 소수(prime number)를 출력하는 프로그램을 작성하세요. \n",
        "\n",
        "실행 결과:\n",
        "```\n",
        "2\n",
        "3\n",
        "5\n",
        "7\n",
        "11\n",
        "13\n",
        "17\n",
        "19\n",
        "23\n",
        "29\n",
        "```\n"
      ],
      "metadata": {
        "id": "yz93PikkFSSG"
      }
    },
    {
      "cell_type": "code",
      "source": [
        "# E-3 (2)\n",
        "\n",
        "# your code here\n",
        "for i in range(2, 30):\n",
        "    chk = True\n",
        "    for j in range(2,i):\n",
        "          if i%j == 0:\n",
        "                  chk = False\n",
        "                  break\n",
        "    if chk:\n",
        "          print(i)\n"
      ],
      "metadata": {
        "id": "hu0XUxVX-H4R",
        "colab": {
          "base_uri": "https://localhost:8080/"
        },
        "outputId": "0d2ddf2f-7975-4271-88be-37f92c18242a"
      },
      "execution_count": 37,
      "outputs": [
        {
          "output_type": "stream",
          "name": "stdout",
          "text": [
            "2\n",
            "3\n",
            "5\n",
            "7\n",
            "11\n",
            "13\n",
            "17\n",
            "19\n",
            "23\n",
            "29\n"
          ]
        }
      ]
    },
    {
      "cell_type": "markdown",
      "source": [
        "\n",
        "### E-3 (3)\n",
        "for 문을 이용하여 5단부터 7단까지 구구들을 출력하는 프로그램을 작성하세요.\n",
        "\n",
        "실행 결과:\n",
        "```\n",
        "5 x 1 = 5\n",
        "5 x 2 = 10\n",
        "5 x 3 = 15\n",
        "...중략...\n",
        "7 x 7 = 49\n",
        "7 x 8 = 56\n",
        "7 x 9 = 63\n",
        "```"
      ],
      "metadata": {
        "id": "L5g-t1maFTew"
      }
    },
    {
      "cell_type": "code",
      "source": [
        "# E-3 (3)\n",
        "\n",
        "# your code here\n",
        "\n",
        "for dan in range(5, 8) :\n",
        "    for i in range(1, 10) :\n",
        "          print(f'{dan}x{i} = {dan*i}')"
      ],
      "metadata": {
        "id": "Y8zSaHQR6GC7",
        "colab": {
          "base_uri": "https://localhost:8080/"
        },
        "outputId": "bf5c7cab-93ca-4995-938d-6ae50374cd8d"
      },
      "execution_count": 36,
      "outputs": [
        {
          "output_type": "stream",
          "name": "stdout",
          "text": [
            "5x1 = 5\n",
            "5x2 = 10\n",
            "5x3 = 15\n",
            "5x4 = 20\n",
            "5x5 = 25\n",
            "5x6 = 30\n",
            "5x7 = 35\n",
            "5x8 = 40\n",
            "5x9 = 45\n",
            "6x1 = 6\n",
            "6x2 = 12\n",
            "6x3 = 18\n",
            "6x4 = 24\n",
            "6x5 = 30\n",
            "6x6 = 36\n",
            "6x7 = 42\n",
            "6x8 = 48\n",
            "6x9 = 54\n",
            "7x1 = 7\n",
            "7x2 = 14\n",
            "7x3 = 21\n",
            "7x4 = 28\n",
            "7x5 = 35\n",
            "7x6 = 42\n",
            "7x7 = 49\n",
            "7x8 = 56\n",
            "7x9 = 63\n"
          ]
        }
      ]
    },
    {
      "cell_type": "markdown",
      "source": [
        "## E-4: 예외 처리\n",
        "\n",
        "예외가 발생되는 부분을 찾아 예외처리를 고려하여 수정하세요. \n",
        "\n",
        "```\n",
        "year = 2020\n",
        "for var in range(10):\n",
        "  if year % var == 0:\n",
        "    print('%d로 나누어 떨어집니다' %var)\n",
        "```\n",
        "\n",
        "수정한 실행 결과:\n",
        "```\n",
        "오류입니다.\n",
        "1로 나누어 떨어집니다\n",
        "2로 나누어 떨어집니다\n",
        "4로 나누어 떨어집니다\n",
        "5로 나누어 떨어집니다\n",
        "```"
      ],
      "metadata": {
        "id": "wiWjStplCdGH"
      }
    },
    {
      "cell_type": "code",
      "source": [
        "# E-4\n",
        "\n",
        "# your code here\n",
        "\n",
        "try:\n",
        "    year = 2020\n",
        "    for var in range(10) :\n",
        "        if year % var == 0 :\n",
        "          print(f'{var}로 나누어 떨어집니다')\n",
        "    \n",
        "except:\n",
        "    print('오류입니다.')\n",
        "\n",
        "finally:\n",
        "    for var in range(1,10) :\n",
        "        if year % var == 0 :\n",
        "          print(f'{var}로 나누어 떨어집니다')"
      ],
      "metadata": {
        "id": "Vylh5mZyCc8n",
        "colab": {
          "base_uri": "https://localhost:8080/"
        },
        "outputId": "4f8a9590-2af8-4256-af31-1f7d8dbefd50"
      },
      "execution_count": 35,
      "outputs": [
        {
          "output_type": "stream",
          "name": "stdout",
          "text": [
            "오류입니다.\n",
            "1로 나누어 떨어집니다\n",
            "2로 나누어 떨어집니다\n",
            "4로 나누어 떨어집니다\n",
            "5로 나누어 떨어집니다\n"
          ]
        }
      ]
    }
  ]
}